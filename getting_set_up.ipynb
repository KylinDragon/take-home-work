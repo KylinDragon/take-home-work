{
 "cells": [
  {
   "cell_type": "markdown",
   "id": "a501f800-4711-4e92-8cee-91e6b2464a1b",
   "metadata": {},
   "source": [
    "## Setting up development environment"
   ]
  },
  {
   "cell_type": "code",
   "execution_count": 2,
   "id": "759a4b9e-797e-4d7c-8430-e1cf8728cab4",
   "metadata": {
    "tags": []
   },
   "outputs": [
    {
     "name": "stdout",
     "output_type": "stream",
     "text": [
      "\u001b[33md4e0149\u001b[m\u001b[33m (\u001b[m\u001b[1;36mHEAD -> \u001b[m\u001b[1;32mworkspace\u001b[m\u001b[33m)\u001b[m [workspace] install basic tools needed for packaging management\n",
      "\u001b[33m5c48c38\u001b[m [workspace] switch docker image to jupyter, to capture issues and tasks\n",
      "\u001b[33m79ce999\u001b[m [workspace] setup docker container environment, based on ubuntu 22.04\n",
      "\u001b[33m6997708\u001b[m\u001b[33m (\u001b[m\u001b[1;32mmain\u001b[m\u001b[33m)\u001b[m Initial commit\n"
     ]
    }
   ],
   "source": [
    "git log workspace --oneline"
   ]
  },
  {
   "cell_type": "code",
   "execution_count": 5,
   "id": "acde9877-6f21-4c4b-ba77-7f65121cc31c",
   "metadata": {
    "tags": []
   },
   "outputs": [
    {
     "name": "stdout",
     "output_type": "stream",
     "text": [
      "Already on 'main'\n",
      "Updating 6997708..d4e0149\n",
      "Fast-forward (no commit created; -m option ignored)\n",
      " .devcontainer/Dockerfile        | 35 \u001b[32m++++++++++++++++++++++++++++++++++\u001b[m\n",
      " .devcontainer/devcontainer.json | 42 \u001b[32m+++++++++++++++++++++++++++++++++++++++++\u001b[m\n",
      " 2 files changed, 77 insertions(+)\n",
      " create mode 100644 .devcontainer/Dockerfile\n",
      " create mode 100644 .devcontainer/devcontainer.json\n"
     ]
    }
   ],
   "source": [
    "git checkout main\n",
    "git merge workspace --commit -m '[merge][workspace] setup development environment'"
   ]
  },
  {
   "cell_type": "markdown",
   "id": "20c735b9-eb15-4a09-9296-b803f764c009",
   "metadata": {},
   "source": [
    "## Create GPG key"
   ]
  },
  {
   "cell_type": "code",
   "execution_count": 11,
   "id": "3750a380-d348-4cdc-b696-71552050b6a9",
   "metadata": {
    "tags": []
   },
   "outputs": [
    {
     "name": "stdout",
     "output_type": "stream",
     "text": [
      "gpg: key 4518FD6F6008D599 marked as ultimately trusted\n",
      "gpg: revocation certificate stored as '/home/clymber/.gnupg/openpgp-revocs.d/B8984F7A8A348CCAF57E4C114518FD6F6008D599.rev'\n",
      "gpg: checking the trustdb\n",
      "gpg: marginals needed: 3  completes needed: 1  trust model: pgp\n",
      "gpg: depth: 0  valid:   1  signed:   0  trust: 0-, 0q, 0n, 0m, 0f, 1u\n",
      "/home/clymber/.gnupg/pubring.kbx\n",
      "--------------------------------\n",
      "pub   rsa4096 2023-04-23 [SCEA]\n",
      "      B8984F7A8A348CCAF57E4C114518FD6F6008D599\n",
      "uid           [ultimate] Clymber Loong <clymberloong@icloud.com>\n",
      "sub   rsa4096 2023-04-23 [SEA]\n",
      "\n"
     ]
    }
   ],
   "source": [
    "gpg --batch --gen-key <<EOF\n",
    "Key-Type: 1\n",
    "Key-Length: 4096\n",
    "Subkey-Type: 1\n",
    "Subkey-Length: 4096\n",
    "Name-Real: Clymber Loong\n",
    "Name-Email: clymberloong@icloud.com\n",
    "Expire-Date: 0\n",
    "EOF\n",
    "\n",
    "gpg --list-keys"
   ]
  },
  {
   "cell_type": "code",
   "execution_count": 12,
   "id": "74e488f7-b2e3-4e9f-bb2e-be4c0c550eab",
   "metadata": {
    "tags": []
   },
   "outputs": [
    {
     "name": "stdout",
     "output_type": "stream",
     "text": [
      "gpg: sending key 4518FD6F6008D599 to hkp://keyserver.ubuntu.com\n"
     ]
    }
   ],
   "source": [
    "gpg --keyserver keyserver.ubuntu.com --send-keys 6008D599"
   ]
  },
  {
   "cell_type": "markdown",
   "id": "9b2a48ab-3f6e-4a09-8c9c-a03482f66810",
   "metadata": {},
   "source": [
    "## Create SSH key"
   ]
  },
  {
   "cell_type": "code",
   "execution_count": 13,
   "id": "897b1546-2dd1-4309-8732-96731ce923c8",
   "metadata": {
    "tags": []
   },
   "outputs": [],
   "source": [
    "ssh-keygen -b 4096 -t rsa -f ~/.ssh/clymberloong_id -q -N \"\""
   ]
  },
  {
   "cell_type": "code",
   "execution_count": 15,
   "id": "56472ca5-7e9f-4cb2-a05a-69225202ba41",
   "metadata": {
    "tags": []
   },
   "outputs": [
    {
     "name": "stdout",
     "output_type": "stream",
     "text": [
      "/home/clymber/.ssh/clymberloong_id\n",
      "/home/clymber/.ssh/clymberloong_id.pub\n"
     ]
    }
   ],
   "source": [
    "ls -1 ~/.ssh/clymberloong_id*"
   ]
  },
  {
   "cell_type": "markdown",
   "id": "faa28300-026a-4caa-81bc-4c87400f47ab",
   "metadata": {},
   "source": [
    "## Configure shell environment"
   ]
  },
  {
   "cell_type": "code",
   "execution_count": 17,
   "id": "13d83068-db84-4c5e-8b93-eaf9dec55c17",
   "metadata": {
    "tags": []
   },
   "outputs": [],
   "source": [
    "echo >> ~/.bashrc 'export DEBFULLNAME=\"Clymber Loong\"\n",
    "export DEBEMALL=\"clymberloong@icloud.com\"'"
   ]
  },
  {
   "cell_type": "code",
   "execution_count": 19,
   "id": "1760130f-bc7d-430b-a245-c3c2434cd094",
   "metadata": {
    "tags": []
   },
   "outputs": [
    {
     "name": "stdout",
     "output_type": "stream",
     "text": [
      "export DEBFULLNAME=\"Clymber Loong\"\n",
      "export DEBEMALL=\"clymberloong@icloud.com\"\n"
     ]
    }
   ],
   "source": [
    "tail -n 2 ~/.bashrc"
   ]
  }
 ],
 "metadata": {
  "kernelspec": {
   "display_name": "Bash",
   "language": "bash",
   "name": "bash"
  },
  "language_info": {
   "codemirror_mode": "shell",
   "file_extension": ".sh",
   "mimetype": "text/x-sh",
   "name": "bash"
  }
 },
 "nbformat": 4,
 "nbformat_minor": 5
}
