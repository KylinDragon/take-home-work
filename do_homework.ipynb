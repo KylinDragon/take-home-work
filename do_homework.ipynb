{
 "cells": [
  {
   "cell_type": "markdown",
   "id": "d64be90b-06d0-4c0b-9ee4-8b9206aa633b",
   "metadata": {},
   "source": [
    "# Getting the code"
   ]
  },
  {
   "cell_type": "code",
   "execution_count": 13,
   "id": "97dc1aad-5b6f-4869-8faa-0398ca4e60a7",
   "metadata": {
    "tags": []
   },
   "outputs": [
    {
     "name": "stdout",
     "output_type": "stream",
     "text": [
      "Codename:\tjammy\n"
     ]
    }
   ],
   "source": [
    "PROJECTROOT=$(pwd)\n",
    "# check current system release code name\n",
    "lsb_release -c"
   ]
  },
  {
   "cell_type": "code",
   "execution_count": 14,
   "id": "cb9fdec3-6ad2-4195-a27d-3a6ca8b83e67",
   "metadata": {
    "scrolled": true,
    "tags": []
   },
   "outputs": [
    {
     "name": "stdout",
     "output_type": "stream",
     "text": [
      "Traceback (most recent call last):\n",
      "  File \"/usr/bin/pull-lp-source\", line 11, in <module>\n",
      "    PullPkg.main(distro='ubuntu', pull='source')\n",
      "  File \"/usr/lib/python3/dist-packages/ubuntutools/pullpkg.py\", line 107, in main\n",
      "    cls(*args, **kwargs).pull()\n",
      "  File \"/usr/lib/python3/dist-packages/ubuntutools/pullpkg.py\", line 400, in pull\n",
      "    params = self._get_params(options)\n",
      "  File \"/usr/lib/python3/dist-packages/ubuntutools/pullpkg.py\", line 318, in _get_params\n",
      "    (r, v, p) = self.parse_release_and_version(distro, options['release'],\n",
      "  File \"/usr/lib/python3/dist-packages/ubuntutools/pullpkg.py\", line 267, in parse_release_and_version\n",
      "    (release, pocket) = self.parse_release(distro, release)\n",
      "  File \"/usr/lib/python3/dist-packages/ubuntutools/pullpkg.py\", line 254, in parse_release\n",
      "    d = Distribution(distro)\n",
      "  File \"/usr/lib/python3/dist-packages/ubuntutools/lp/lpapicache.py\", line 137, in __new__\n",
      "    if isinstance(data, str) and data.startswith(str(Launchpad._root_uri)):\n",
      "  File \"/usr/lib/python3/dist-packages/ubuntutools/lp/lpapicache.py\", line 108, in __getattr__\n",
      "    self.login_anonymously()\n",
      "  File \"/usr/lib/python3/dist-packages/ubuntutools/lp/lpapicache.py\", line 89, in login_anonymously\n",
      "    self.__lp = LP.login_anonymously('ubuntu-dev-tools', service,\n",
      "  File \"/usr/lib/python3/dist-packages/launchpadlib/launchpad.py\", line 494, in login_anonymously\n",
      "    return cls(\n",
      "  File \"/usr/lib/python3/dist-packages/launchpadlib/launchpad.py\", line 230, in __init__\n",
      "    super(Launchpad, self).__init__(\n",
      "  File \"/usr/lib/python3/dist-packages/lazr/restfulclient/resource.py\", line 477, in __init__\n",
      "    self._browser.get(root_resource), 'application/json')\n",
      "  File \"/usr/lib/python3/dist-packages/lazr/restfulclient/_browser.py\", line 439, in get\n",
      "    response, content = self._request(url, extra_headers=headers)\n",
      "  File \"/usr/lib/python3/dist-packages/lazr/restfulclient/_browser.py\", line 389, in _request\n",
      "    response, content = self._request_and_retry(\n",
      "  File \"/usr/lib/python3/dist-packages/lazr/restfulclient/_browser.py\", line 359, in _request_and_retry\n",
      "    response, content = self._connection.request(\n",
      "  File \"/usr/lib/python3/dist-packages/httplib2/__init__.py\", line 1725, in request\n",
      "    (response, content) = self._request(\n",
      "  File \"/usr/lib/python3/dist-packages/launchpadlib/launchpad.py\", line 144, in _request\n",
      "    response, content = super(LaunchpadOAuthAwareHttp, self)._request(\n",
      "  File \"/usr/lib/python3/dist-packages/lazr/restfulclient/_browser.py\", line 184, in _request\n",
      "    return super(RestfulHttp, self)._request(\n",
      "  File \"/usr/lib/python3/dist-packages/httplib2/__init__.py\", line 1441, in _request\n",
      "    (response, content) = self._conn_request(conn, request_uri, method, body, headers)\n",
      "  File \"/usr/lib/python3/dist-packages/httplib2/__init__.py\", line 1363, in _conn_request\n",
      "    conn.connect()\n",
      "  File \"/usr/lib/python3/dist-packages/httplib2/__init__.py\", line 1155, in connect\n",
      "    self.sock = self._context.wrap_socket(sock, server_hostname=self.host)\n",
      "  File \"/usr/lib/python3.10/ssl.py\", line 513, in wrap_socket\n",
      "    return self.sslsocket_class._create(\n",
      "  File \"/usr/lib/python3.10/ssl.py\", line 1071, in _create\n",
      "    self.do_handshake()\n",
      "  File \"/usr/lib/python3.10/ssl.py\", line 1342, in do_handshake\n",
      "    self._sslobj.do_handshake()\n",
      "ssl.SSLZeroReturnError: TLS/SSL connection has been closed (EOF) (_ssl.c:997)\n"
     ]
    },
    {
     "ename": "",
     "evalue": "1",
     "output_type": "error",
     "traceback": []
    }
   ],
   "source": [
    "PROGRAM=cmatrix\n",
    "pull-lp-source $PROGRAM jammy"
   ]
  },
  {
   "cell_type": "markdown",
   "id": "45802acc-b091-46a4-aed6-d7146fd2a58f",
   "metadata": {},
   "source": [
    "#### There's a network issue. Try to use `apt source <package>`"
   ]
  },
  {
   "cell_type": "code",
   "execution_count": 27,
   "id": "9cf26437-3fe2-401c-a0f7-4deb41576cd7",
   "metadata": {
    "tags": []
   },
   "outputs": [
    {
     "name": "stdout",
     "output_type": "stream",
     "text": [
      "\n",
      "WARNING: apt does not have a stable CLI interface. Use with caution in scripts.\n",
      "\n",
      "Get:1 http://ftp.sjtu.edu.cn/ubuntu jammy/universe cmatrix 2.0-3 (dsc) [1,901 B]\n",
      "Get:2 http://ftp.sjtu.edu.cn/ubuntu jammy/universe cmatrix 2.0-3 (tar) [206 kB]\n",
      "Get:3 http://ftp.sjtu.edu.cn/ubuntu jammy/universe cmatrix 2.0-3 (diff) [4,436 B]\n",
      "\u001b[1mdpkg-source: \u001b[0m\u001b[32minfo\u001b[0m: extracting cmatrix in cmatrix-2.0\n",
      "\u001b[1mdpkg-source: \u001b[0m\u001b[32minfo\u001b[0m: unpacking cmatrix_2.0.orig.tar.gz\n",
      "\u001b[1mdpkg-source: \u001b[0m\u001b[32minfo\u001b[0m: unpacking cmatrix_2.0-3.debian.tar.xz\n",
      "\u001b[1mdpkg-source: \u001b[0m\u001b[32minfo\u001b[0m: using patch list from debian/patches/series\n",
      "\u001b[1mdpkg-source: \u001b[0m\u001b[32minfo\u001b[0m: applying 0001-cmatrix.1-Improvement-on-man-page.patch\n",
      "\u001b[1mdpkg-source: \u001b[0m\u001b[32minfo\u001b[0m: applying 0002-Fix-78.patch\n",
      "Fetched 212 kB in 1s (291 kB/s)\n"
     ]
    }
   ],
   "source": [
    "apt source $PROGRAM | tail # suppress some output"
   ]
  },
  {
   "cell_type": "code",
   "execution_count": 28,
   "id": "f9819a6d-d2d6-44cc-b466-f14746cc71e3",
   "metadata": {
    "tags": []
   },
   "outputs": [
    {
     "name": "stdout",
     "output_type": "stream",
     "text": [
      "\u001b[0m\u001b[01;34mcmatrix-2.0\u001b[0m                  cmatrix_2.0-3.dsc        do_homework.ipynb\n",
      "\u001b[01;31mcmatrix_2.0-3.debian.tar.xz\u001b[0m  \u001b[01;31mcmatrix_2.0.orig.tar.gz\u001b[0m\n"
     ]
    }
   ],
   "source": [
    "ls"
   ]
  },
  {
   "cell_type": "markdown",
   "id": "7be9de55-95fb-4812-b222-95878cf7a99c",
   "metadata": {},
   "source": [
    "# Create a new patch through `quilt`"
   ]
  },
  {
   "cell_type": "markdown",
   "id": "c7e7871d-c480-4bed-832a-f2483765eacb",
   "metadata": {},
   "source": [
    "Add the follow file into quilt patch:\n",
    "- CMakeLists.txt\n",
    "- Makefile.am\n",
    "- debian/cmatrix.postinst\n",
    "- testing.sh  \n",
    "\n",
    "Those are the files that will be modified/added"
   ]
  },
  {
   "cell_type": "code",
   "execution_count": 29,
   "id": "44c9d156-d4fb-41ad-b434-afb84d2bbc16",
   "metadata": {
    "tags": []
   },
   "outputs": [
    {
     "name": "stdout",
     "output_type": "stream",
     "text": [
      "Patch 0003-take-home-test.patch is now on top\n",
      "File CMakeLists.txt added to patch 0003-take-home-test.patch\n",
      "File Makefile.am added to patch 0003-take-home-test.patch\n",
      "File debian/cmatrix.postinst added to patch 0003-take-home-test.patch\n",
      "File testing.sh added to patch 0003-take-home-test.patch\n",
      "CMakeLists.txt\n",
      "Makefile.am\n",
      "debian/cmatrix.postinst\n",
      "testing.sh\n"
     ]
    }
   ],
   "source": [
    "cd cmatrix-2.0\n",
    "quilt new \"0003-take-home-test.patch\"\n",
    "quilt add \"CMakeLists.txt\" \"Makefile.am\" \"debian/cmatrix.postinst\" \"testing.sh\" # add\n",
    "quilt files # check\n",
    "cd $PROJECTDIR"
   ]
  },
  {
   "cell_type": "markdown",
   "id": "b0a5bfd6-82b9-48ac-9814-e837bc0ccc9f",
   "metadata": {
    "tags": []
   },
   "source": [
    "# Adding `testing.sh` to source code"
   ]
  },
  {
   "cell_type": "code",
   "execution_count": 30,
   "id": "e4e8f416-5a9e-40ba-98d2-9157bf568195",
   "metadata": {
    "tags": []
   },
   "outputs": [],
   "source": [
    "MY_SCRIPT=\"cmatrix-2.0/testing.sh\"\n",
    "\n",
    "cat > \"$MY_SCRIPT\" <<\"EOF\"\n",
    "#!/bin/bash -\n",
    "\n",
    "MESSAGE=\"this is a test from Clymber Loong\"\n",
    "\n",
    "if [ \"$1\" == \"stdout\" ] ; then\n",
    "    echo \"$MESSAGE\" >&1\n",
    "else\n",
    "    echo \"$MESSAGE\" >&2\n",
    "fi\n",
    "\n",
    "exit $?\n",
    "EOF\n",
    "\n",
    "chmod +x \"$MY_SCRIPT\""
   ]
  },
  {
   "cell_type": "code",
   "execution_count": 31,
   "id": "c9dc6713-2348-4bf9-81d7-1cc5fad1999c",
   "metadata": {
    "tags": []
   },
   "outputs": [
    {
     "name": "stdout",
     "output_type": "stream",
     "text": [
      "this is a test from Clymber Loong\n",
      "this is a test from Clymber Loong\n"
     ]
    }
   ],
   "source": [
    "/bin/bash $MY_SCRIPT        # echo to stderr\n",
    "/bin/bash $MY_SCRIPT stdout # echo to stdout"
   ]
  },
  {
   "cell_type": "markdown",
   "id": "f9c1c44d-cf94-4e2e-92b8-243343afc847",
   "metadata": {},
   "source": [
    "# Adding `testing.sh` to building and installation procedure"
   ]
  },
  {
   "cell_type": "code",
   "execution_count": 32,
   "id": "f61dfcd6-21e9-4947-b614-a72c2b1abbd1",
   "metadata": {
    "tags": []
   },
   "outputs": [],
   "source": [
    "CMAKE_LISTS='cmatrix-2.0/CMakeLists.txt' # used by cmake\n",
    "AUTOTOOLCFG='cmatrix-2.0/Makefile.am' # used by autoreconf\n",
    "\n",
    "echo 'install(PROGRAMS testing.sh DESTINATION bin)' >> \"$CMAKE_LISTS\"\n",
    "echo 'bin_SCRIPTS = testing.sh' >> \"$AUTOTOOLCFG\""
   ]
  },
  {
   "cell_type": "markdown",
   "id": "fb330964-c7a8-4cd6-9ef2-518bf6e4b00d",
   "metadata": {},
   "source": [
    "# Add package maintainer scripts"
   ]
  },
  {
   "cell_type": "code",
   "execution_count": 33,
   "id": "4383966d-a3e4-4971-9718-b8a31d5e9e88",
   "metadata": {
    "tags": []
   },
   "outputs": [],
   "source": [
    "POSTINST='cmatrix-2.0/debian/cmatrix.postinst'\n",
    "\n",
    "cat > \"$POSTINST\" <<\"EOF\"\n",
    "#!/bin/bash -\n",
    "set -e\n",
    "\n",
    "if [ \"$1\" == \"configure\" ]; then\n",
    "    testing.sh stdout\n",
    "fi\n",
    "\n",
    "#DEBHELPER#\n",
    "EOF\n",
    "\n",
    "chmod +x \"$POSTINST\""
   ]
  },
  {
   "cell_type": "markdown",
   "id": "900e3488-5700-4937-a50e-f455f1897ed3",
   "metadata": {},
   "source": [
    "# Save changes into quilt patch"
   ]
  },
  {
   "cell_type": "code",
   "execution_count": 34,
   "id": "71be4bdf-c1d2-4a6b-879f-f5edceaa0b0b",
   "metadata": {
    "tags": []
   },
   "outputs": [
    {
     "name": "stdout",
     "output_type": "stream",
     "text": [
      "\u001b[32m--- a/CMakeLists.txt\u001b[00m\n",
      "\u001b[32m+++ b/CMakeLists.txt\u001b[00m\n",
      "\u001b[33m@@ -71,3 +71,4 @@\u001b[00m \u001b[35mif     (UNIX)\u001b[00m\n",
      " \tendforeach ()\n",
      " endif  ()\n",
      " \n",
      "\u001b[36m+install(PROGRAMS testing.sh DESTINATION bin)\u001b[00m\n",
      "\u001b[32m--- a/Makefile.am\u001b[00m\n",
      "\u001b[32m+++ b/Makefile.am\u001b[00m\n",
      "\u001b[33m@@ -48,3 +48,4 @@\u001b[00m \u001b[35minstall-data-local:\u001b[00m\n",
      " \t\techo \"Not installing matrix fonts\"; \\\n",
      " \tfi\n",
      " \n",
      "\u001b[36m+bin_SCRIPTS = testing.sh\u001b[00m\n",
      "\u001b[32m--- /dev/null\u001b[00m\n",
      "\u001b[32m+++ b/debian/cmatrix.postinst\u001b[00m\n",
      "\u001b[33m@@ -0,0 +1,8 @@\u001b[00m\u001b[35m\u001b[00m\n",
      "\u001b[36m+#!/bin/bash -\u001b[00m\n",
      "\u001b[36m+set -e\u001b[00m\n",
      "\u001b[36m+\u001b[00m\n",
      "\u001b[36m+if [ \"$1\" == \"configure\" ]; then\u001b[00m\n",
      "\u001b[36m+    testing.sh stdout\u001b[00m\n",
      "\u001b[36m+fi\u001b[00m\n",
      "\u001b[36m+\u001b[00m\n",
      "\u001b[36m+#DEBHELPER#\u001b[00m\n",
      "\u001b[32m--- /dev/null\u001b[00m\n",
      "\u001b[32m+++ b/testing.sh\u001b[00m\n",
      "\u001b[33m@@ -0,0 +1,11 @@\u001b[00m\u001b[35m\u001b[00m\n",
      "\u001b[36m+#!/bin/bash -\u001b[00m\n",
      "\u001b[36m+\u001b[00m\n",
      "\u001b[36m+MESSAGE=\"this is a test from Clymber Loong\"\u001b[00m\n",
      "\u001b[36m+\u001b[00m\n",
      "\u001b[36m+if [ \"$1\" == \"stdout\" ] ; then\u001b[00m\n",
      "\u001b[36m+    echo \"$MESSAGE\" >&1\u001b[00m\n",
      "\u001b[36m+else\u001b[00m\n",
      "\u001b[36m+    echo \"$MESSAGE\" >&2\u001b[00m\n",
      "\u001b[36m+fi\u001b[00m\n",
      "\u001b[36m+\u001b[00m\n",
      "\u001b[36m+exit $?\u001b[00m\n"
     ]
    }
   ],
   "source": [
    "cd cmatrix-2.0\n",
    "quilt diff "
   ]
  },
  {
   "cell_type": "code",
   "execution_count": 35,
   "id": "f3c1673c-2c29-472a-b521-ebed5cbce3e3",
   "metadata": {
    "tags": []
   },
   "outputs": [
    {
     "name": "stdout",
     "output_type": "stream",
     "text": [
      "Refreshed patch 0003-take-home-test.patch\n"
     ]
    }
   ],
   "source": [
    "quilt refresh"
   ]
  },
  {
   "cell_type": "code",
   "execution_count": null,
   "id": "c8f761d5-ec20-4ef7-bfbe-4a2d644fe339",
   "metadata": {},
   "outputs": [],
   "source": [
    "quilt header --dep3 -e"
   ]
  },
  {
   "cell_type": "markdown",
   "id": "f482a3f6-2720-4985-ad59-d024a6ad9317",
   "metadata": {
    "tags": []
   },
   "source": [
    "# Documenting the testing feature"
   ]
  },
  {
   "cell_type": "code",
   "execution_count": null,
   "id": "0b49d3fc-5572-4fe4-a6e8-0002795f54c7",
   "metadata": {},
   "outputs": [],
   "source": [
    "dch -i"
   ]
  },
  {
   "cell_type": "code",
   "execution_count": 36,
   "id": "3ca5a03b-09f5-404e-9953-a3c1c7b83fd8",
   "metadata": {
    "tags": []
   },
   "outputs": [
    {
     "name": "stdout",
     "output_type": "stream",
     "text": [
      "cmatrix (2.0-3ubuntu1) jammy; urgency=medium\n",
      "\n",
      "  * testing.sh: echo a testing message to stderr\n",
      "  * debian/cmatrix.postinst: echo a testing message to stdout\n",
      "  * CMakeLists.txt Makefile.am: handle install testing.sh procedure\n",
      "\n",
      " -- Clymber Loong <clymberloong@icloud.com>  Tue, 25 Apr 2023 16:17:23 +0800\n",
      "\n",
      "cmatrix (2.0-3) unstable; urgency=medium\n",
      "\n"
     ]
    }
   ],
   "source": [
    "head debian/changelog"
   ]
  },
  {
   "cell_type": "markdown",
   "id": "7202bcf4-fcb0-4cdd-a72b-e654956f472e",
   "metadata": {},
   "source": [
    "# Testing the feature"
   ]
  },
  {
   "cell_type": "markdown",
   "id": "4e217861-a6a8-4e73-a191-1d78b9ea32a3",
   "metadata": {},
   "source": [
    "Firstly build from the source to get a \"xxx.dsc\" file"
   ]
  },
  {
   "cell_type": "code",
   "execution_count": 37,
   "id": "3e9e34af-4651-4b06-8359-821059c9896b",
   "metadata": {
    "scrolled": true,
    "tags": []
   },
   "outputs": [
    {
     "name": "stdout",
     "output_type": "stream",
     "text": [
      " dpkg-buildpackage -us -uc -ui -S -d\n",
      "dpkg-buildpackage: info: source package cmatrix\n",
      "dpkg-buildpackage: info: source version 2.0-3ubuntu1\n",
      "dpkg-buildpackage: info: source distribution jammy\n",
      "dpkg-buildpackage: info: source changed by Clymber Loong <clymberloong@icloud.com>\n",
      " dpkg-source --before-build .\n",
      " debian/rules clean\n",
      "dh clean\n",
      "   dh_clean\n",
      " dpkg-source -b .\n",
      "dpkg-source: warning: Version number suggests Ubuntu changes, but Maintainer: does not have Ubuntu address\n",
      "dpkg-source: warning: Version number suggests Ubuntu changes, but there is no XSBC-Original-Maintainer field\n",
      "dpkg-source: info: using source format '3.0 (quilt)'\n",
      "dpkg-source: info: building cmatrix using existing ./cmatrix_2.0.orig.tar.gz\n",
      "dpkg-source: info: using patch list from debian/patches/series\n",
      "patching file CMakeLists.txt\n",
      "patching file Makefile.am\n",
      "The next patch would create the file debian/cmatrix.postinst,\n",
      "which already exists!  Skipping patch.\n",
      "1 out of 1 hunk ignored\n",
      "patching file testing.sh\n",
      "dpkg-source: info: the patch has fuzz which is not allowed, or is malformed\n",
      "dpkg-source: info: if patch '0003-take-home-test.patch' is correctly applied by quilt, use 'quilt refresh' to update it\n",
      "dpkg-source: info: if the file is present in the unpacked source, make sure it is also present in the orig tarball\n",
      "dpkg-source: error: LC_ALL=C patch -t -F 0 -N -p1 -u -V never -E -b -B .pc/0003-take-home-test.patch/ --reject-file=- < cmatrix-2.0.orig.NvKBG8/debian/patches/0003-take-home-test.patch subprocess returned exit status 1\n",
      "dpkg-buildpackage: error: dpkg-source -b . subprocess returned exit status 2\n",
      "debuild: fatal error at line 1182:\n",
      "dpkg-buildpackage -us -uc -ui -S -d failed\n"
     ]
    },
    {
     "ename": "",
     "evalue": "29",
     "output_type": "error",
     "traceback": []
    }
   ],
   "source": [
    "debuild -S -d -us -uc"
   ]
  },
  {
   "cell_type": "markdown",
   "id": "36b91a4f-73a1-4aba-b227-738c8967f49c",
   "metadata": {},
   "source": [
    "## Fix the build issue\n",
    "\n",
    "*dpkg-source: info: the patch has fuzz which is not allowed, or is malformed*  \n",
    "*dpkg-source: error: LC_ALL=C patch -t -F 0 -N -p1 -u -V never -E -b -B .pc/0003-take-home-test.patch/ --reject-file=- < cmatrix-2.0.orig.NvKBG8/debian/patches/0003-take-home-test.patch subprocess returned exit status 1*  \n",
    "\n",
    "I got stuck for a long time by the issue above. I was misled to dive into `quilt` usage. And then I was trying to figure out how to add the `postinst` into the `debian/*` directory. Finally figured out that the real problem is not `quilt` system, it's about the rules of `debian/*` in debian package.\n",
    "\n",
    "According to dibian policy, https://www.debian.org/doc/debian-policy/, I should not add quilt patches over /debian/ files. The patches are for the code only.\n",
    "\n",
    "So, my solution is to remove the file `debian/cmatrix.postinst` from the quilt patch '0003-take-home-test.patch'."
   ]
  },
  {
   "cell_type": "code",
   "execution_count": 39,
   "id": "3e666f85-ebef-4300-8240-c5a4bdd642ae",
   "metadata": {
    "tags": []
   },
   "outputs": [
    {
     "name": "stdout",
     "output_type": "stream",
     "text": [
      "File debian/cmatrix.postinst removed from patch 0003-take-home-test.patch\n"
     ]
    }
   ],
   "source": [
    "# remove the file in quilt patch\n",
    "quilt remove \"debian/cmatrix.postinst\"\n",
    "quilt refresh\n",
    "# The following command executing on a interactive termial, because jupyter notebook shell can't duel with it.\n",
    "# quilt --dep3 -e\n",
    "# git restore debian/cmatrix.postinst"
   ]
  },
  {
   "cell_type": "code",
   "execution_count": 48,
   "id": "62658738-0e32-4b3c-af22-9fd9935f7e62",
   "metadata": {
    "tags": []
   },
   "outputs": [
    {
     "name": "stdout",
     "output_type": "stream",
     "text": [
      "dpkg-buildpackage: info: source version 2.0-3ubuntu1\n",
      "dpkg-buildpackage: info: source distribution jammy\n",
      "dpkg-buildpackage: info: source changed by Clymber Loong <clymberloong@icloud.com>\n",
      " dpkg-source --before-build .\n",
      " debian/rules clean\n",
      "dh clean\n",
      "   dh_clean\n",
      " dpkg-source -b .\n",
      "dpkg-source: warning: Version number suggests Ubuntu changes, but Maintainer: does not have Ubuntu address\n",
      "dpkg-source: warning: Version number suggests Ubuntu changes, but there is no XSBC-Original-Maintainer field\n",
      "dpkg-source: info: using source format '3.0 (quilt)'\n",
      "dpkg-source: info: building cmatrix using existing ./cmatrix_2.0.orig.tar.gz\n",
      "dpkg-source: info: using patch list from debian/patches/series\n",
      "dpkg-source: info: building cmatrix in cmatrix_2.0-3ubuntu1.debian.tar.xz\n",
      "dpkg-source: info: building cmatrix in cmatrix_2.0-3ubuntu1.dsc\n",
      " dpkg-genbuildinfo --build=source -O../cmatrix_2.0-3ubuntu1_source.buildinfo\n",
      " dpkg-genchanges --build=source -O../cmatrix_2.0-3ubuntu1_source.changes\n",
      "dpkg-genchanges: info: not including original source code in upload\n",
      " dpkg-source --after-build .\n",
      "dpkg-buildpackage: info: source-only, diff-only upload (original source NOT included)\n"
     ]
    }
   ],
   "source": [
    "# rebuild the source\n",
    "debuild -S -d -us -uc | tail -n 20"
   ]
  },
  {
   "cell_type": "code",
   "execution_count": 44,
   "id": "65b6ec39-1ef8-4164-abae-3d6b568781c2",
   "metadata": {
    "tags": []
   },
   "outputs": [
    {
     "name": "stdout",
     "output_type": "stream",
     "text": [
      "\u001b[0m\u001b[01;31m../cmatrix_2.0-3ubuntu1.debian.tar.xz\u001b[0m\n",
      "../cmatrix_2.0-3ubuntu1.dsc\n",
      "../cmatrix_2.0-3ubuntu1_source.build\n",
      "../cmatrix_2.0-3ubuntu1_source.buildinfo\n",
      "../cmatrix_2.0-3ubuntu1_source.changes\n"
     ]
    }
   ],
   "source": [
    "# check result\n",
    "ls -1 ../cmatrix_2.0-3ubuntu1*"
   ]
  },
  {
   "cell_type": "markdown",
   "id": "25bdebdd-a54a-4d9b-b966-988886902c94",
   "metadata": {},
   "source": [
    "Bingo! Finally I figured it out. The lesson I learn is that I should learn more about the tools beforehand. A craftsman should master and take care of his tools. Specifically, there's more I need to learn about debian packaging."
   ]
  },
  {
   "cell_type": "markdown",
   "id": "eb7be05b-e8c9-4c25-811c-170c3ac689cc",
   "metadata": {},
   "source": [
    "## Build .deb package "
   ]
  },
  {
   "cell_type": "code",
   "execution_count": 53,
   "id": "84d8a69e-edc9-4e1b-836c-d72231857bac",
   "metadata": {
    "tags": []
   },
   "outputs": [
    {
     "name": "stdout",
     "output_type": "stream",
     "text": [
      "Distribution data outdated. Please check for an update for distro-info-data. See /usr/share/doc/distro-info-data/README.Debian for details.\n",
      "W: /home/clymber/.pbuilderrc does not exist\n",
      "ln: failed to create hard link '/home/clymber/pbuilder/aptcache/ubuntu/libmagic-mgc_1%3a5.41-3_amd64.deb' => '/var/cache/pbuilder/build/51514/var/cache/apt/archives/libmagic-mgc_1%3a5.41-3_amd64.deb': Invalid cross-device link\n",
      "\u001b[0mI: new cache content 'bsdextrautils_2.37.2-4ubuntu3_amd64.deb' added\u001b[0m\n",
      "ln: failed to create hard link '/home/clymber/pbuilder/aptcache/ubuntu/bsdextrautils_2.37.2-4ubuntu3_amd64.deb' => '/var/cache/pbuilder/build/51514/var/cache/apt/archives/bsdextrautils_2.37.2-4ubuntu3_amd64.deb': Invalid cross-device link\n",
      "\u001b[0mI: new cache content 'autoconf_2.71-2_all.deb' added\u001b[0m\n",
      "ln: failed to create hard link '/home/clymber/pbuilder/aptcache/ubuntu/autoconf_2.71-2_all.deb' => '/var/cache/pbuilder/build/51514/var/cache/apt/archives/autoconf_2.71-2_all.deb': Invalid cross-device link\n",
      "\u001b[0mI: new cache content 'autotools-dev_20220109.1_all.deb' added\u001b[0m\n",
      "ln: failed to create hard link '/home/clymber/pbuilder/aptcache/ubuntu/autotools-dev_20220109.1_all.deb' => '/var/cache/pbuilder/build/51514/var/cache/apt/archives/autotools-dev_20220109.1_all.deb': Invalid cross-device link\n",
      "\u001b[0mI: new cache content 'libdw1_0.186-1build1_amd64.deb' added\u001b[0m\n",
      "ln: failed to create hard link '/home/clymber/pbuilder/aptcache/ubuntu/libdw1_0.186-1build1_amd64.deb' => '/var/cache/pbuilder/build/51514/var/cache/apt/archives/libdw1_0.186-1build1_amd64.deb': Invalid cross-device link\n",
      "\u001b[0mI: new cache content 'libpipeline1_1.5.5-1_amd64.deb' added\u001b[0m\n",
      "ln: failed to create hard link '/home/clymber/pbuilder/aptcache/ubuntu/libpipeline1_1.5.5-1_amd64.deb' => '/var/cache/pbuilder/build/51514/var/cache/apt/archives/libpipeline1_1.5.5-1_amd64.deb': Invalid cross-device link\n",
      "\u001b[0mI: unmounting dev/ptmx filesystem\u001b[0m\n",
      "\u001b[0mI: unmounting dev/pts filesystem\u001b[0m\n",
      "\u001b[0mI: unmounting dev/shm filesystem\u001b[0m\n",
      "\u001b[0mI: unmounting proc filesystem\u001b[0m\n",
      "\u001b[0mI: unmounting sys filesystem\u001b[0m\n",
      "\u001b[0mI: cleaning the build env \u001b[0m\n",
      "\u001b[0mI: removing directory /var/cache/pbuilder/build/51514 and its subdirectories\u001b[0m\n",
      "\u001b[0mI: Current time: Tue Apr 25 17:30:07 HKT 2023\u001b[0m\n",
      "\u001b[0mI: pbuilder-time-stamp: 1682415007\u001b[0m\n"
     ]
    }
   ],
   "source": [
    "pbuilder-dist jammy build ../cmatrix_2.0-3ubuntu1.dsc | tail -n 20"
   ]
  },
  {
   "cell_type": "code",
   "execution_count": 54,
   "id": "2ed720ab-800e-47d5-8e0b-302e0647eae9",
   "metadata": {
    "tags": []
   },
   "outputs": [
    {
     "name": "stdout",
     "output_type": "stream",
     "text": [
      "\u001b[0m\u001b[01;31m/home/clymber/pbuilder/jammy_result/cmatrix_2.0-3ubuntu1_amd64.deb\u001b[0m\n",
      "\u001b[01;31m/home/clymber/pbuilder/jammy_result/cmatrix-xfont_2.0-3ubuntu1_all.deb\u001b[0m\n"
     ]
    }
   ],
   "source": [
    "ls -1 ~/pbuilder/jammy_result/cmatrix*.deb"
   ]
  },
  {
   "cell_type": "markdown",
   "id": "e39a9c3d-ad60-4796-a9c3-75fe6ba163bb",
   "metadata": {
    "tags": []
   },
   "source": [
    "## Install the package"
   ]
  },
  {
   "cell_type": "code",
   "execution_count": 55,
   "id": "da774db2-bdba-49d2-b74c-9cff56628ee9",
   "metadata": {
    "tags": []
   },
   "outputs": [
    {
     "name": "stdout",
     "output_type": "stream",
     "text": [
      "\u001b[1mdpkg:\u001b[0m \u001b[1;33mwarning:\u001b[0m downgrading cmatrix from 2.0-3ubuntu3 to 2.0-3ubuntu1\n",
      "(Reading database ... 226814 files and directories currently installed.)\n",
      "Preparing to unpack .../cmatrix_2.0-3ubuntu1_amd64.deb ...\n",
      "Unpacking cmatrix (2.0-3ubuntu1) over (2.0-3ubuntu3) ...\n",
      "Setting up cmatrix (2.0-3ubuntu1) ...\n",
      "this is a test from Clymber Loong\n",
      "Processing triggers for mailcap (3.70+nmu1ubuntu1) ...\n",
      "Processing triggers for gnome-menus (3.36.0-1ubuntu3) ...\n",
      "Processing triggers for desktop-file-utils (0.26-1ubuntu3) ...\n",
      "Processing triggers for man-db (2.10.2-1) ...\n"
     ]
    }
   ],
   "source": [
    "sudo dpkg -i /home/clymber/pbuilder/jammy_result/cmatrix_2.0-3ubuntu1_amd64.deb"
   ]
  },
  {
   "cell_type": "code",
   "execution_count": 56,
   "id": "a62e1d86-2e91-4a58-a473-b9ae010366f2",
   "metadata": {
    "tags": []
   },
   "outputs": [
    {
     "name": "stdout",
     "output_type": "stream",
     "text": [
      "this is a test from Clymber Loong\n"
     ]
    }
   ],
   "source": [
    "testing.sh"
   ]
  },
  {
   "cell_type": "code",
   "execution_count": 2,
   "id": "e3468423-6108-431f-823b-1fe4e462ca16",
   "metadata": {
    "tags": []
   },
   "outputs": [
    {
     "name": "stdout",
     "output_type": "stream",
     "text": [
      "cmatrix: /usr/bin/testing.sh\n",
      "this is a test from Clymber Loong\n"
     ]
    }
   ],
   "source": [
    "dpkg -S testing.sh; testing.sh"
   ]
  },
  {
   "cell_type": "markdown",
   "id": "0f4018bf-b523-4199-be6f-03d7852767ec",
   "metadata": {},
   "source": [
    "## Rebuild package with sign"
   ]
  },
  {
   "cell_type": "code",
   "execution_count": 57,
   "id": "3b6be24f-e3c6-4b8d-a902-ae17c088b6c5",
   "metadata": {
    "tags": []
   },
   "outputs": [
    {
     "name": "stdout",
     "output_type": "stream",
     "text": [
      " dpkg-buildpackage -us -uc -ui -S -d\n",
      "dpkg-buildpackage: info: source package cmatrix\n",
      "dpkg-buildpackage: info: source version 2.0-3ubuntu1\n",
      "dpkg-buildpackage: info: source distribution jammy\n",
      "dpkg-buildpackage: info: source changed by Clymber Loong <clymberloong@icloud.com>\n",
      " dpkg-source --before-build .\n",
      " debian/rules clean\n",
      "dh clean\n",
      "   dh_clean\n",
      " dpkg-source -b .\n",
      "dpkg-source: warning: Version number suggests Ubuntu changes, but Maintainer: does not have Ubuntu address\n",
      "dpkg-source: warning: Version number suggests Ubuntu changes, but there is no XSBC-Original-Maintainer field\n",
      "dpkg-source: info: using source format '3.0 (quilt)'\n",
      "dpkg-source: info: building cmatrix using existing ./cmatrix_2.0.orig.tar.gz\n",
      "dpkg-source: info: using patch list from debian/patches/series\n",
      "dpkg-source: info: building cmatrix in cmatrix_2.0-3ubuntu1.debian.tar.xz\n",
      "dpkg-source: info: building cmatrix in cmatrix_2.0-3ubuntu1.dsc\n",
      " dpkg-genbuildinfo --build=source -O../cmatrix_2.0-3ubuntu1_source.buildinfo\n",
      " dpkg-genchanges --build=source -O../cmatrix_2.0-3ubuntu1_source.changes\n",
      "dpkg-genchanges: info: not including original source code in upload\n",
      " dpkg-source --after-build .\n",
      "dpkg-buildpackage: info: source-only, diff-only upload (original source NOT included)\n",
      "Now signing changes and any dsc files...\n",
      " signfile dsc cmatrix_2.0-3ubuntu1.dsc Clymber Loong <clymberloong@icloud.com>\n",
      "\n",
      " fixup_buildinfo cmatrix_2.0-3ubuntu1.dsc cmatrix_2.0-3ubuntu1_source.buildinfo\n",
      " signfile buildinfo cmatrix_2.0-3ubuntu1_source.buildinfo Clymber Loong <clymberloong@icloud.com>\n",
      "\n",
      " fixup_changes dsc cmatrix_2.0-3ubuntu1.dsc cmatrix_2.0-3ubuntu1_source.changes\n",
      " fixup_changes buildinfo cmatrix_2.0-3ubuntu1_source.buildinfo cmatrix_2.0-3ubuntu1_source.changes\n",
      " signfile changes cmatrix_2.0-3ubuntu1_source.changes Clymber Loong <clymberloong@icloud.com>\n",
      "\n",
      "Successfully signed dsc, buildinfo, changes files\n"
     ]
    }
   ],
   "source": [
    "debuild -S -d"
   ]
  },
  {
   "cell_type": "code",
   "execution_count": 58,
   "id": "13ab94f0-c808-435f-b466-58b21786b102",
   "metadata": {
    "tags": []
   },
   "outputs": [
    {
     "name": "stdout",
     "output_type": "stream",
     "text": [
      "Distribution data outdated. Please check for an update for distro-info-data. See /usr/share/doc/distro-info-data/README.Debian for details.\n",
      "W: /home/clymber/.pbuilderrc does not exist\n",
      "ln: failed to create hard link '/home/clymber/pbuilder/aptcache/ubuntu/libmagic-mgc_1%3a5.41-3_amd64.deb' => '/var/cache/pbuilder/build/55220/var/cache/apt/archives/libmagic-mgc_1%3a5.41-3_amd64.deb': Invalid cross-device link\n",
      "\u001b[0mI: new cache content 'bsdextrautils_2.37.2-4ubuntu3_amd64.deb' added\u001b[0m\n",
      "ln: failed to create hard link '/home/clymber/pbuilder/aptcache/ubuntu/bsdextrautils_2.37.2-4ubuntu3_amd64.deb' => '/var/cache/pbuilder/build/55220/var/cache/apt/archives/bsdextrautils_2.37.2-4ubuntu3_amd64.deb': Invalid cross-device link\n",
      "\u001b[0mI: new cache content 'autoconf_2.71-2_all.deb' added\u001b[0m\n",
      "ln: failed to create hard link '/home/clymber/pbuilder/aptcache/ubuntu/autoconf_2.71-2_all.deb' => '/var/cache/pbuilder/build/55220/var/cache/apt/archives/autoconf_2.71-2_all.deb': Invalid cross-device link\n",
      "\u001b[0mI: new cache content 'autotools-dev_20220109.1_all.deb' added\u001b[0m\n",
      "ln: failed to create hard link '/home/clymber/pbuilder/aptcache/ubuntu/autotools-dev_20220109.1_all.deb' => '/var/cache/pbuilder/build/55220/var/cache/apt/archives/autotools-dev_20220109.1_all.deb': Invalid cross-device link\n",
      "\u001b[0mI: new cache content 'libdw1_0.186-1build1_amd64.deb' added\u001b[0m\n",
      "ln: failed to create hard link '/home/clymber/pbuilder/aptcache/ubuntu/libdw1_0.186-1build1_amd64.deb' => '/var/cache/pbuilder/build/55220/var/cache/apt/archives/libdw1_0.186-1build1_amd64.deb': Invalid cross-device link\n",
      "\u001b[0mI: new cache content 'libpipeline1_1.5.5-1_amd64.deb' added\u001b[0m\n",
      "ln: failed to create hard link '/home/clymber/pbuilder/aptcache/ubuntu/libpipeline1_1.5.5-1_amd64.deb' => '/var/cache/pbuilder/build/55220/var/cache/apt/archives/libpipeline1_1.5.5-1_amd64.deb': Invalid cross-device link\n",
      "\u001b[0mI: unmounting dev/ptmx filesystem\u001b[0m\n",
      "\u001b[0mI: unmounting dev/pts filesystem\u001b[0m\n",
      "\u001b[0mI: unmounting dev/shm filesystem\u001b[0m\n",
      "\u001b[0mI: unmounting proc filesystem\u001b[0m\n",
      "\u001b[0mI: unmounting sys filesystem\u001b[0m\n",
      "\u001b[0mI: cleaning the build env \u001b[0m\n",
      "\u001b[0mI: removing directory /var/cache/pbuilder/build/55220 and its subdirectories\u001b[0m\n",
      "\u001b[0mI: Current time: Tue Apr 25 17:39:03 HKT 2023\u001b[0m\n",
      "\u001b[0mI: pbuilder-time-stamp: 1682415543\u001b[0m\n"
     ]
    }
   ],
   "source": [
    "pbuilder-dist jammy build ../cmatrix_2.0-3ubuntu1.dsc | tail -n 20"
   ]
  },
  {
   "cell_type": "markdown",
   "id": "977f8165-34fa-4495-89f5-c82c174539a5",
   "metadata": {},
   "source": [
    "# Generate a \"debdiff\" file"
   ]
  },
  {
   "cell_type": "code",
   "execution_count": 59,
   "id": "6610361f-d6fa-4b05-bff0-ff857c2dfd6f",
   "metadata": {
    "tags": []
   },
   "outputs": [
    {
     "name": "stdout",
     "output_type": "stream",
     "text": [
      "gpgv: Signature made Wednesday, January 13, 2021 PM01:19:46 HKT\n",
      "gpgv:                using RSA key 7E7729476D87D6F11D91ACCBC293E7B461825ACE\n",
      "gpgv: Can't check signature: No public key\n",
      "\u001b[1mdpkg-source: \u001b[0m\u001b[1;33mwarning\u001b[0m: cannot verify signature /home/clymber/GitHub/take-home-work/temp/cmatrix_2.0-3.dsc\n",
      "gpgv: Signature made Tuesday, April 25, 2023 PM05:34:16 HKT\n",
      "gpgv:                using RSA key 5E4D8A8E9BD95993E5B291939E0EB9D9B1BB3628\n",
      "gpgv:                issuer \"clymberloong@icloud.com\"\n",
      "gpgv: Can't check signature: No public key\n",
      "\u001b[1mdpkg-source: \u001b[0m\u001b[1;33mwarning\u001b[0m: cannot verify signature /home/clymber/GitHub/take-home-work/temp/cmatrix_2.0-3ubuntu1.dsc\n"
     ]
    },
    {
     "ename": "",
     "evalue": "1",
     "output_type": "error",
     "traceback": []
    }
   ],
   "source": [
    "debdiff ../cmatrix_2.0-3.dsc ../cmatrix_2.0-3ubuntu1.dsc > ../1-2.0-3ubuntu1.debdiff"
   ]
  },
  {
   "cell_type": "code",
   "execution_count": 60,
   "id": "1f9a81f1-8a37-4719-b96e-d298699db142",
   "metadata": {
    "tags": []
   },
   "outputs": [
    {
     "name": "stdout",
     "output_type": "stream",
     "text": [
      "gpg: key C293E7B461825ACE: public key \"Boyuan Yang (Debian Project) <byang@debian.org>\" imported\n",
      "gpg: Total number processed: 1\n",
      "gpg:               imported: 1\n"
     ]
    }
   ],
   "source": [
    "gpg --keyserver keyserver.ubuntu.com --recv-keys 61825ACE"
   ]
  },
  {
   "cell_type": "code",
   "execution_count": 61,
   "id": "24177a5f-851a-410a-9635-1c8986507b95",
   "metadata": {
    "tags": []
   },
   "outputs": [
    {
     "name": "stdout",
     "output_type": "stream",
     "text": [
      "gpg: keybox '/home/clymber/.gnupg/trustedkeys.gpg' created\n",
      "gpg: key C293E7B461825ACE: public key \"Boyuan Yang (Debian Project) <byang@debian.org>\" imported\n",
      "gpg: Total number processed: 1\n",
      "gpg:               imported: 1\n"
     ]
    }
   ],
   "source": [
    "gpg --no-default-keyring -a --export 61825ACE | gpg --no-default-keyring --keyring ~/.gnupg/trustedkeys.gpg --import -"
   ]
  },
  {
   "cell_type": "code",
   "execution_count": 63,
   "id": "3efe9470-4847-4f0c-928c-ce057df67208",
   "metadata": {
    "tags": []
   },
   "outputs": [
    {
     "name": "stdout",
     "output_type": "stream",
     "text": [
      "gpg: key 4518FD6F6008D599: public key \"Clymber Loong <clymberloong@icloud.com>\" imported\n",
      "gpg: Total number processed: 1\n",
      "gpg:               imported: 1\n",
      "gpg: marginals needed: 3  completes needed: 1  trust model: pgp\n",
      "gpg: depth: 0  valid:   1  signed:   0  trust: 0-, 0q, 0n, 0m, 0f, 1u\n"
     ]
    }
   ],
   "source": [
    "gpg --no-default-keyring -a --export B1BB3628 | gpg --no-default-keyring --keyring ~/.gnupg/trustedkeys.gpg --import -"
   ]
  },
  {
   "cell_type": "code",
   "execution_count": 68,
   "id": "09b99041-145f-4342-acdd-36c4b09a413e",
   "metadata": {
    "tags": []
   },
   "outputs": [
    {
     "ename": "",
     "evalue": "1",
     "output_type": "error",
     "traceback": []
    }
   ],
   "source": [
    "debdiff ../cmatrix_2.0-3.dsc ../cmatrix_2.0-3ubuntu1.dsc > ../1-2.0-3ubuntu1.debdiff"
   ]
  }
 ],
 "metadata": {
  "kernelspec": {
   "display_name": "Bash",
   "language": "bash",
   "name": "bash"
  },
  "language_info": {
   "codemirror_mode": "shell",
   "file_extension": ".sh",
   "mimetype": "text/x-sh",
   "name": "bash"
  }
 },
 "nbformat": 4,
 "nbformat_minor": 5
}
