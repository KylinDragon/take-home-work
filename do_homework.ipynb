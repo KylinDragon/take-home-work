{
 "cells": [
  {
   "cell_type": "markdown",
   "id": "d64be90b-06d0-4c0b-9ee4-8b9206aa633b",
   "metadata": {},
   "source": [
    "## Getting the code"
   ]
  },
  {
   "cell_type": "code",
   "execution_count": 1,
   "id": "cb9fdec3-6ad2-4195-a27d-3a6ca8b83e67",
   "metadata": {
    "tags": []
   },
   "outputs": [
    {
     "name": "stdout",
     "output_type": "stream",
     "text": [
      "Found cmatrix 2.0-3 in jammy\n",
      "Downloading cmatrix_2.0-3.dsc from ports.ubuntu.com (0.002 MiB)\n",
      "[=====================================================>]100%\n",
      "Public key not found, could not verify signature\n",
      "Downloading cmatrix_2.0.orig.tar.gz from ports.ubuntu.com (0.196 MiB)\n",
      "[=====================================================>]100%\n",
      "Downloading cmatrix_2.0-3.debian.tar.xz from ports.ubuntu.com (0.004 MiB)\n",
      "[=====================================================>]100%\n"
     ]
    }
   ],
   "source": [
    "PROGRAM=cmatrix\n",
    "pull-lp-source cmatrix jammy"
   ]
  },
  {
   "cell_type": "code",
   "execution_count": 2,
   "id": "f9819a6d-d2d6-44cc-b466-f14746cc71e3",
   "metadata": {
    "tags": []
   },
   "outputs": [
    {
     "name": "stdout",
     "output_type": "stream",
     "text": [
      "\u001b[0m\u001b[01;34mcmatrix-2.0\u001b[0m                  \u001b[01;31mcmatrix_2.0.orig.tar.gz\u001b[0m  LICENSE\n",
      "\u001b[01;31mcmatrix_2.0-3.debian.tar.xz\u001b[0m  do_homework.ipynb        README.md\n",
      "cmatrix_2.0-3.dsc            getting_set_up.ipynb\n"
     ]
    }
   ],
   "source": [
    "ls"
   ]
  }
 ],
 "metadata": {
  "kernelspec": {
   "display_name": "Bash",
   "language": "bash",
   "name": "bash"
  },
  "language_info": {
   "codemirror_mode": "shell",
   "file_extension": ".sh",
   "mimetype": "text/x-sh",
   "name": "bash"
  }
 },
 "nbformat": 4,
 "nbformat_minor": 5
}
