{
 "cells": [
  {
   "cell_type": "markdown",
   "id": "d64be90b-06d0-4c0b-9ee4-8b9206aa633b",
   "metadata": {},
   "source": [
    "## Getting the code"
   ]
  },
  {
   "cell_type": "code",
   "execution_count": 1,
   "id": "cb9fdec3-6ad2-4195-a27d-3a6ca8b83e67",
   "metadata": {
    "tags": []
   },
   "outputs": [
    {
     "name": "stdout",
     "output_type": "stream",
     "text": [
      "Found cmatrix 2.0-3 in jammy\n",
      "Downloading cmatrix_2.0-3.dsc from ports.ubuntu.com (0.002 MiB)\n",
      "[=====================================================>]100%\n",
      "Public key not found, could not verify signature\n",
      "Downloading cmatrix_2.0.orig.tar.gz from ports.ubuntu.com (0.196 MiB)\n",
      "[=====================================================>]100%\n",
      "Downloading cmatrix_2.0-3.debian.tar.xz from ports.ubuntu.com (0.004 MiB)\n",
      "[=====================================================>]100%\n"
     ]
    }
   ],
   "source": [
    "PROGRAM=cmatrix\n",
    "pull-lp-source $PROGRAM jammy"
   ]
  },
  {
   "cell_type": "code",
   "execution_count": 2,
   "id": "f9819a6d-d2d6-44cc-b466-f14746cc71e3",
   "metadata": {
    "tags": []
   },
   "outputs": [
    {
     "name": "stdout",
     "output_type": "stream",
     "text": [
      "\u001b[0m\u001b[01;34mcmatrix-2.0\u001b[0m                  \u001b[01;31mcmatrix_2.0.orig.tar.gz\u001b[0m  LICENSE\n",
      "\u001b[01;31mcmatrix_2.0-3.debian.tar.xz\u001b[0m  do_homework.ipynb        README.md\n",
      "cmatrix_2.0-3.dsc            getting_set_up.ipynb\n"
     ]
    }
   ],
   "source": [
    "ls"
   ]
  },
  {
   "cell_type": "markdown",
   "id": "b0a5bfd6-82b9-48ac-9814-e837bc0ccc9f",
   "metadata": {},
   "source": [
    "## Adding `testing.sh` to source code"
   ]
  },
  {
   "cell_type": "code",
   "execution_count": 11,
   "id": "e4e8f416-5a9e-40ba-98d2-9157bf568195",
   "metadata": {
    "tags": []
   },
   "outputs": [],
   "source": [
    "MY_SCRIPT=\"cmatrix-2.0/testing.sh\"\n",
    "\n",
    "cat > \"$MY_SCRIPT\" <<\"EOF\"\n",
    "#!/bin/bash -\n",
    "\n",
    "MESSAGE=\"this is a test from Clymber Loong\"\n",
    "\n",
    "if [ \"$1\" == \"stdout\" ] ; then\n",
    "    echo \"$MESSAGE\" >&1\n",
    "else\n",
    "    echo \"$MESSAGE\" >&2\n",
    "fi\n",
    "\n",
    "exit $?\n",
    "EOF\n",
    "\n",
    "chmod +x \"$MY_SCRIPT\""
   ]
  },
  {
   "cell_type": "code",
   "execution_count": 15,
   "id": "c9dc6713-2348-4bf9-81d7-1cc5fad1999c",
   "metadata": {
    "tags": []
   },
   "outputs": [
    {
     "name": "stdout",
     "output_type": "stream",
     "text": [
      "this is a test from Clymber Loong\n",
      "this is a test from Clymber Loong\n"
     ]
    }
   ],
   "source": [
    "/bin/bash $MY_SCRIPT        # echo to stderr\n",
    "/bin/bash $MY_SCRIPT stdout # echo to stdout"
   ]
  },
  {
   "cell_type": "markdown",
   "id": "f9c1c44d-cf94-4e2e-92b8-243343afc847",
   "metadata": {},
   "source": [
    "## Adding `testing.sh` to build and install procedure"
   ]
  },
  {
   "cell_type": "code",
   "execution_count": null,
   "id": "f61dfcd6-21e9-4947-b614-a72c2b1abbd1",
   "metadata": {},
   "outputs": [],
   "source": [
    "CMAKE_LISTS='cmatrix-2.0/CMakeLists.txt' # used by cmake\n",
    "AUTOTOOLCFG='cmatrix-2.0/Makefile.am' # used by autoreconf\n",
    "\n",
    "echo 'install(PROGRAMS testing.sh DESTINATION bin)' >> \"$CMAKE_LISTS\"\n",
    "echo 'bin_SCRIPTS = testing.sh' >> \"$AUTOTOOLCFG\""
   ]
  }
 ],
 "metadata": {
  "kernelspec": {
   "display_name": "Bash",
   "language": "bash",
   "name": "bash"
  },
  "language_info": {
   "codemirror_mode": "shell",
   "file_extension": ".sh",
   "mimetype": "text/x-sh",
   "name": "bash"
  }
 },
 "nbformat": 4,
 "nbformat_minor": 5
}
