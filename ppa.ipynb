{
 "cells": [
  {
   "cell_type": "markdown",
   "id": "90d37f9b-5fbf-4677-9aae-3d3b6279bc67",
   "metadata": {},
   "source": [
    "# Which files to upload\n",
    "\n",
    "Dput uploads the following files:\n",
    "- .dsc\n",
    "- .changes\n",
    "- .diff.gz or .debian.tar.gz\n",
    "- and optionally the .orig.tar.gz (if you used debuild -S -sa to build your package) "
   ]
  },
  {
   "cell_type": "markdown",
   "id": "8e1a7b6b-1560-4e4f-a37f-a9b8c6ac1e8c",
   "metadata": {},
   "source": [
    "# Set up `dput` configuration\n",
    "\n",
    "We should also ensure that the email address and GPG key we use with dput are the same as those associated with our Launchpad account. "
   ]
  },
  {
   "cell_type": "code",
   "execution_count": 8,
   "id": "1023bcc2-2e8e-48cd-902c-c3a69aee3c6b",
   "metadata": {
    "tags": []
   },
   "outputs": [],
   "source": [
    "cat > ~/dput.cf <<\"EOF\"\n",
    "[clymber-ppa]\n",
    "fqdn = ppa.launchpad.net\n",
    "method = ftp\n",
    "incoming = ~clymber/ubuntu/ppa_name/\n",
    "login = anonymous\n",
    "allow_unsigned_uploads = 0\n",
    "EOF"
   ]
  },
  {
   "cell_type": "markdown",
   "id": "38b84f51-911a-46ba-87e9-96df9aa57524",
   "metadata": {},
   "source": [
    "# Versioning\n",
    "\n",
    "Ubuntu package names are suffixed by the version number of the package.   \n",
    "\n",
    "Key points:\n",
    "- your package supersedes the official Ubuntu version\n",
    "- future Ubuntu versions will supersede your package. \n",
    "\n",
    "To do this, add the suffix ppan (where n is your package's revision number). Two examples:\n",
    "- Ubuntu package myapp_1.0-1 → PPA package myapp_1.0-1ppa1\n",
    "- Ubuntu package myapp_1.0-1ubuntu3 → PPA package myapp_1.0-1ubuntu3ppa1\n",
    "\n",
    "So, I need to adjust the version number in the changelog. Changes has been made and are show below:"
   ]
  },
  {
   "cell_type": "code",
   "execution_count": 3,
   "id": "d2c93299-3c84-4d92-b907-90cefc73b8e0",
   "metadata": {
    "tags": []
   },
   "outputs": [
    {
     "name": "stdout",
     "output_type": "stream",
     "text": [
      "\u001b[33mcommit b4bad086b00fd13b8b1d9ac3bb1265c6a4069074\u001b[m\u001b[33m (\u001b[m\u001b[1;36mHEAD -> \u001b[m\u001b[1;32mmain\u001b[m\u001b[33m)\u001b[m\n",
      "Author: KylinDragon <dragonkylin@qq.com>\n",
      "Date:   Tue Apr 25 23:58:23 2023 +0800\n",
      "\n",
      "    [main] adjust the version number for ppa platform\n",
      "\n",
      " cmatrix-2.0/debian/changelog | 6 \u001b[32m++++++\u001b[m\n",
      " 1 file changed, 6 insertions(+)\n"
     ]
    }
   ],
   "source": [
    "git log -1 --stat"
   ]
  },
  {
   "cell_type": "code",
   "execution_count": 5,
   "id": "7d2eed8f-2d7d-4359-b80f-c98be2c1422b",
   "metadata": {
    "tags": []
   },
   "outputs": [
    {
     "name": "stdout",
     "output_type": "stream",
     "text": [
      "\u001b[1mdiff --git a/cmatrix-2.0/debian/changelog b/cmatrix-2.0/debian/changelog\u001b[m\n",
      "\u001b[1mindex e9640b4..221b19f 100644\u001b[m\n",
      "\u001b[1m--- a/cmatrix-2.0/debian/changelog\u001b[m\n",
      "\u001b[1m+++ b/cmatrix-2.0/debian/changelog\u001b[m\n",
      "\u001b[36m@@ -1,3 +1,9 @@\u001b[m\n",
      "\u001b[32m+\u001b[m\u001b[32mcmatrix (2.0-3ubuntu4ppa1~ubuntu22.04.1) jammy; urgency=medium\u001b[m\n",
      "\u001b[32m+\u001b[m\n",
      "\u001b[32m+\u001b[m\u001b[32m  * adjust the version number to ppa platform\u001b[m\n",
      "\u001b[32m+\u001b[m\n",
      "\u001b[32m+\u001b[m\u001b[32m -- Clymber Loong <clymberloong@icloud.com>  Tue, 25 Apr 2023 23:53:29 +0800\u001b[m\n",
      "\u001b[32m+\u001b[m\n",
      " cmatrix (2.0-3ubuntu3) jammy; urgency=medium\u001b[m\n",
      " \u001b[m\n",
      "   * testing.sh: echo a test message to stderr.\u001b[m\n"
     ]
    }
   ],
   "source": [
    "git diff HEAD~ HEAD"
   ]
  },
  {
   "cell_type": "code",
   "execution_count": 7,
   "id": "bc522b7c-aea6-4aa1-905e-492c5dbcfff2",
   "metadata": {
    "tags": []
   },
   "outputs": [
    {
     "name": "stdout",
     "output_type": "stream",
     "text": [
      "\u001b[0m\u001b[01;31mcmatrix_2.0-3ubuntu4ppa1~ubuntu22.04.1.debian.tar.xz\u001b[0m\n",
      "cmatrix_2.0-3ubuntu4ppa1~ubuntu22.04.1.dsc\n",
      "cmatrix_2.0-3ubuntu4ppa1~ubuntu22.04.1_source.build\n",
      "cmatrix_2.0-3ubuntu4ppa1~ubuntu22.04.1_source.buildinfo\n",
      "cmatrix_2.0-3ubuntu4ppa1~ubuntu22.04.1_source.changes\n"
     ]
    }
   ],
   "source": [
    "ls *ppa1~ubuntu22.04.1* # after rebuilding the packages"
   ]
  },
  {
   "cell_type": "markdown",
   "id": "a9ded963-c56c-4aea-9d55-b29ff6f8319b",
   "metadata": {},
   "source": [
    "# Do `dput`"
   ]
  },
  {
   "cell_type": "code",
   "execution_count": 9,
   "id": "03059dc9-3d0f-4f5d-86b4-1cd6403b0169",
   "metadata": {
    "tags": []
   },
   "outputs": [
    {
     "name": "stdout",
     "output_type": "stream",
     "text": [
      "D: Splitting host argument out of  ppa:clymber/cmatrix.\n",
      "D: Setting host argument.\n",
      "Not a .changes file.\n",
      "Please select a .changes file to upload.\n",
      "Tried to upload: cmatrix_2.0-3ubuntu4ppa1~ubuntu22.04.1.dsc\n",
      "D: Splitting host argument out of  ppa:clymber/cmatrix.\n",
      "D: Setting host argument.\n",
      "Checking signature on .changes\n",
      "gpg: /home/clymber/GitHub/take-home-work/cmatrix_2.0-3ubuntu4ppa1~ubuntu22.04.1_source.changes: Valid signature from 9E0EB9D9B1BB3628\n",
      "Checking signature on .dsc\n",
      "gpg: /home/clymber/GitHub/take-home-work/cmatrix_2.0-3ubuntu4ppa1~ubuntu22.04.1.dsc: Valid signature from 9E0EB9D9B1BB3628\n",
      "Uploading to ppa (via ftp to ppa.launchpad.net):\n",
      "  Uploading cmatrix_2.0-3ubuntu4ppa1~ubuntu22.04.1.dsc: 1k/21k/2    done.\n",
      "  Uploading cmatrix_2.0-3ubuntu4ppa1~ubuntu22.04.1.debian.tar.xz: 2k/63k/64k/65k/65k/65k/6    done.\n",
      "  Uploading cmatrix_2.0-3ubuntu4ppa1~ubuntu22.04.1_source.buildinfo: 2k/83k/84k/85k/86k/87k/87k/87k/8    done.\n",
      "  Uploading cmatrix_2.0-3ubuntu4ppa1~ubuntu22.04.1_source.changes: 2k/32k/32k/3    done.\n",
      "Successfully uploaded packages.\n",
      "D: Splitting host argument out of  ppa:clymber/cmatrix.\n",
      "D: Setting host argument.\n",
      "Not a .changes file.\n",
      "Please select a .changes file to upload.\n",
      "Tried to upload: cmatrix_2.0-3ubuntu4ppa1~ubuntu22.04.1.debian.tar.xz\n"
     ]
    },
    {
     "ename": "",
     "evalue": "1",
     "output_type": "error",
     "traceback": []
    }
   ],
   "source": [
    "DSC=\"cmatrix_2.0-3ubuntu4ppa1~ubuntu22.04.1.dsc\"\n",
    "CHANGES=\"cmatrix_2.0-3ubuntu4ppa1~ubuntu22.04.1_source.changes\"\n",
    "DEBIAN=\"cmatrix_2.0-3ubuntu4ppa1~ubuntu22.04.1.debian.tar.xz\"\n",
    "\n",
    "dput \"ppa:clymber/cmatrix\" \"$DSC\"\n",
    "dput \"ppa:clymber/cmatrix\" \"$CHANGES\"\n",
    "dput \"ppa:clymber/cmatrix\" \"$DEBIAN\""
   ]
  },
  {
   "cell_type": "markdown",
   "id": "48f41f5e-9ca6-460f-8637-8511ee91bfa9",
   "metadata": {},
   "source": [
    "# Install the package built on the ppa"
   ]
  },
  {
   "cell_type": "code",
   "execution_count": null,
   "id": "b572a7d3-cf07-4a45-ad23-05f3d47b6e44",
   "metadata": {
    "scrolled": true,
    "tags": []
   },
   "outputs": [],
   "source": [
    "sudo add-apt-repository -y \"ppa:clymber/cmatrix\""
   ]
  },
  {
   "cell_type": "code",
   "execution_count": 29,
   "id": "eff4458b-fe24-4a1b-b790-d77340d76f19",
   "metadata": {
    "tags": []
   },
   "outputs": [
    {
     "name": "stdout",
     "output_type": "stream",
     "text": [
      "Hit:1 https://download.docker.com/linux/ubuntu jammy InRelease\n",
      "Hit:2 https://ppa.launchpadcontent.net/clymber/cmatrix/ubuntu jammy InRelease\n",
      "                                                           Reading package lists... 0%Reading package lists... 0%Reading package lists... 0%Reading package lists... 0%Reading package lists... 0%Reading package lists... 0%Reading package lists... 0%Reading package lists... 0%Reading package lists... 3%Reading package lists... 3%Reading package lists... 3%Reading package lists... Done\n"
     ]
    }
   ],
   "source": [
    "sudo apt-get update"
   ]
  },
  {
   "cell_type": "code",
   "execution_count": 30,
   "id": "89024cc8-c3a3-4d77-9714-79dbc6b9d53d",
   "metadata": {
    "tags": []
   },
   "outputs": [
    {
     "name": "stdout",
     "output_type": "stream",
     "text": [
      "Sorting... 0%Sorting... 0%Sorting... 5%Sorting... Done\n",
      "Full Text Search... 50%Full Text Search... 50%Full Text Search... Done\n",
      "\u001b[32mcmatrix\u001b[0m/jammy 2.0-3ubuntu4ppa1~ubuntu22.04.1 amd64\n",
      "  simulates the display from \"The Matrix\"\n",
      "\n",
      "\u001b[32mcmatrix-xfont\u001b[0m/jammy,jammy 2.0-3ubuntu4ppa1~ubuntu22.04.1 all [residual-config]\n",
      "  X11 font for cmatrix\n",
      "\n"
     ]
    }
   ],
   "source": [
    "apt search cmatrix"
   ]
  },
  {
   "cell_type": "code",
   "execution_count": 31,
   "id": "f8a687b6-46a4-409d-8663-982be2b93440",
   "metadata": {
    "tags": []
   },
   "outputs": [
    {
     "name": "stdout",
     "output_type": "stream",
     "text": [
      "Reading package lists... 0%Reading package lists... 100%Reading package lists... Done\n",
      "Building dependency tree... 0%Building dependency tree... 0%Building dependency tree... 50%Building dependency tree... 50%Building dependency tree... Done\n",
      "Reading state information... 0% Reading state information... 0%Reading state information... Done\n",
      "The following package was automatically installed and is no longer required:\n",
      "  docker-scan-plugin\n",
      "Use 'sudo apt autoremove' to remove it.\n",
      "Suggested packages:\n",
      "  cmatrix-xfont\n",
      "The following NEW packages will be installed:\n",
      "  cmatrix\n",
      "0 upgraded, 1 newly installed, 0 to remove and 0 not upgraded.\n",
      "Need to get 0 B/18.4 kB of archives.\n",
      "After this operation, 55.3 kB of additional disk space will be used.\n",
      "Selecting previously unselected package cmatrix.\n",
      "(Reading database ... 226799 files and directories currently installed.)\n",
      "Preparing to unpack .../cmatrix_2.0-3ubuntu4ppa1~ubuntu22.04.1_amd64.deb ...\n",
      "Unpacking cmatrix (2.0-3ubuntu4ppa1~ubuntu22.04.1) ...\n",
      "Setting up cmatrix (2.0-3ubuntu4ppa1~ubuntu22.04.1) ...\n",
      "this is a test from Clymber Loong\n",
      "Processing triggers for mailcap (3.70+nmu1ubuntu1) ...\n",
      "Processing triggers for desktop-file-utils (0.26-1ubuntu3) ...\n",
      "Processing triggers for gnome-menus (3.36.0-1ubuntu3) ...\n",
      "Processing triggers for man-db (2.10.2-1) ...\n"
     ]
    }
   ],
   "source": [
    "sudo apt-get install cmatrix"
   ]
  },
  {
   "cell_type": "code",
   "execution_count": 32,
   "id": "8eeec60d-699e-4f9d-aa7d-8b6368f905c8",
   "metadata": {
    "tags": []
   },
   "outputs": [
    {
     "name": "stdout",
     "output_type": "stream",
     "text": [
      "cmatrix: /usr/bin/testing.sh\n",
      "this is a test from Clymber Loong\n"
     ]
    }
   ],
   "source": [
    "dpkg -S testing.sh; testing.sh"
   ]
  }
 ],
 "metadata": {
  "kernelspec": {
   "display_name": "Bash",
   "language": "bash",
   "name": "bash"
  },
  "language_info": {
   "codemirror_mode": "shell",
   "file_extension": ".sh",
   "mimetype": "text/x-sh",
   "name": "bash"
  }
 },
 "nbformat": 4,
 "nbformat_minor": 5
}
